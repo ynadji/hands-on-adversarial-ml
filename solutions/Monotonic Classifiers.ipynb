{
  "cells": [
    {
      "cell_type": "code",
      "source": [
        "!wget -cq https://github.com/ynadji/hands-on-adversarial-ml/raw/colab/data/01-monotonic-classifiers/benign-traces.tar.gz\n",
        "!wget -cq https://github.com/ynadji/hands-on-adversarial-ml/raw/colab/data/01-monotonic-classifiers/malicious-traces.tar.gz\n",
        "!wget -cq https://github.com/ynadji/hands-on-adversarial-ml/raw/colab/data/01-monotonic-classifiers/feature-vectors.tar.gz\n",
        "!for x in *.tar.gz; do tar xzf ${x}; done"
      ],
      "metadata": {
        "id": "acw7wHWn0L9V"
      },
      "execution_count": 1,
      "outputs": []
    },
    {
      "cell_type": "markdown",
      "metadata": {
        "id": "i_XV4LU20LDb"
      },
      "source": [
        "# Monotonic Classifiers\n",
        "\n",
        "Some classifiers should never \"flip-flop\" between classes. For example, consider the following classifier that labels system call traces from programs as being benign or malicious programs. No matter how many benign instructions are added to a malicious program, it should never trick the classifier into thinking it is benign.\n",
        "\n",
        "The classifier below takes sequences of system calls obtained from execution traces from malicious and benign programs. Treating each execution trace as a document, we extract a tf-idf[1] vector for feature extraction. Code below is provided that:\n",
        "1. Grabs ground truth traces\n",
        "1. Vectorizes them with tf-idf\n",
        "1. Performs 10-fold cross validation\n",
        "1. Trains a Logistic Regression model\n",
        "\n",
        "Your task as a malware author yourself, is to find direct and indirect ways to break this model so antivirus software cannot detect your code. Approach these tasks in three chunks:\n",
        "1. Manually manipulate a malicious feature vector such that the classifier mistakenly labels it malicious. If you successfully do this once, create a function that given a benign feature vector returns a new one that will be classified as benign.\n",
        "1. Identify features that, given your knowledge of what monotonic classifiers try to solve, could be used to \"flip\" a malicious program into benign one.\n",
        "1. Using the aforementioned features, write a function that transforms a malicious syscall trace (appending is fine) to be classified as benign.\n",
        "1. Modify the classifier so these features can no longer be used to \"flip\" a malicious trace. There's a quick'n'dirty way to do this, but more sophisticated[2] and robust[3] techniques exist if monotonicity is an important feature that your classifier needs.\n",
        "\n",
        "## References\n",
        "* [1] https://en.wikipedia.org/wiki/Tf%E2%80%93idf\n",
        "* [2] https://arxiv.org/pdf/1804.03643.pdf\n",
        "* [3] https://www.slideshare.net/MSbluehat/bluehat-v17-detecting-compromise-on-windows-endpoints-with-osquery"
      ]
    },
    {
      "cell_type": "markdown",
      "metadata": {
        "id": "mIjWqXW90LDf"
      },
      "source": [
        "## Utility Functions"
      ]
    },
    {
      "cell_type": "code",
      "execution_count": 2,
      "metadata": {
        "id": "P-U4JwQb0LDg"
      },
      "outputs": [],
      "source": [
        "import os\n",
        "import sys\n",
        "import fnmatch\n",
        "import random\n",
        "import itertools\n",
        "from collections import Counter\n",
        "\n",
        "from sklearn.feature_extraction.text import TfidfVectorizer\n",
        "from sklearn.linear_model import LogisticRegression, Lasso\n",
        "from sklearn.model_selection import cross_val_score, cross_val_predict\n",
        "import joblib\n",
        "import numpy as np\n",
        "import pandas as pd\n",
        "import seaborn\n",
        "import matplotlib.pyplot as plt\n",
        "\n",
        "## utils\n",
        "def rwalk(directory, pattern):\n",
        "    \"\"\"Recursively search \"directory\" for files that match the Unix shell-style\n",
        "    wildcard given by \"pattern\" (like '*.mp3'). Returns matches as a generator.\"\"\"\n",
        "    for root, dirnames, filenames in os.walk(directory):\n",
        "        for filename in fnmatch.filter(filenames, pattern):\n",
        "            yield os.path.join(root, filename)\n",
        "\n",
        "def gettraces(benignpath='benign-traces',\n",
        "              malpath='malicious-traces'):\n",
        "    return list(rwalk(malpath, '*.trace')), list(rwalk(benignpath, '*.trace'))\n",
        "\n",
        "def get_random_malicious_trace(malpath='malicious-traces'):\n",
        "    \"\"\"Grab the text of a random malicious system call trace.\"\"\"\n",
        "    mal, _ = gettraces(malpath=malpath)\n",
        "    with open(random.choice(mal)) as f:\n",
        "        return f.read()"
      ]
    },
    {
      "cell_type": "markdown",
      "metadata": {
        "id": "BzCFrsUw0LDh"
      },
      "source": [
        "## Use the TfidfVectorizer to vectorize ground truth\n",
        "\n",
        "The following extracts vectors from each benign and malicious execution trace and returns four values:\n",
        "1. `X`: the feature vectors\n",
        "1. `y`: the class labels\n",
        "1. `terms`: the list of labels (0 is benign, 1 is malicious)\n",
        "1. `vectorizer`: a TfidfVectorizer which is fit to the terms in the ground truth and can be used to fit new syscall traces with `vectorizer.transform([trace1, trace2, ..., traceN])`"
      ]
    },
    {
      "cell_type": "code",
      "execution_count": 3,
      "metadata": {
        "id": "bRyzfrkp0LDh"
      },
      "outputs": [],
      "source": [
        "def vectorize(featuredir='feature-vectors'):\n",
        "    pos_traces, neg_traces = gettraces()\n",
        "    pos_y = [1 for _ in pos_traces]\n",
        "    neg_y = [0 for _ in neg_traces]\n",
        "    docs = [open(x).read() for x in pos_traces + neg_traces]\n",
        "    y = np.array(pos_y + neg_y)\n",
        "\n",
        "    vectorizer = TfidfVectorizer()\n",
        "    X = vectorizer.fit_transform(docs)\n",
        "    terms = np.asarray(vectorizer.get_feature_names_out())\n",
        "    return X, y, terms, vectorizer\n",
        "\n",
        "X, y, terms, vectorizer = vectorize()"
      ]
    },
    {
      "cell_type": "code",
      "execution_count": 4,
      "metadata": {
        "id": "qHsFYJ-m0LDi",
        "outputId": "f1925a04-411c-45f8-d591-0e35fd729013",
        "colab": {
          "base_uri": "https://localhost:8080/"
        }
      },
      "outputs": [
        {
          "output_type": "execute_result",
          "data": {
            "text/plain": [
              "<2000x16 sparse matrix of type '<class 'numpy.float64'>'\n",
              "\twith 32000 stored elements in Compressed Sparse Row format>"
            ]
          },
          "metadata": {},
          "execution_count": 4
        }
      ],
      "source": [
        "X"
      ]
    },
    {
      "cell_type": "code",
      "execution_count": 5,
      "metadata": {
        "id": "Tc-figDS0LDj",
        "outputId": "72195ee1-ae06-4125-a053-c7f69e7c153f",
        "colab": {
          "base_uri": "https://localhost:8080/"
        }
      },
      "outputs": [
        {
          "output_type": "execute_result",
          "data": {
            "text/plain": [
              "array(['ntcreateprocessex', 'ntcreatethreadex', 'ntcreateuserprocess',\n",
              "       'ntdisplaystring', 'ntdrawtext', 'ntmodifybootentry', 'ntopenfile',\n",
              "       'ntopenkeyex', 'ntopentimer', 'ntquerydirectoryfile', 'ntreadfile',\n",
              "       'ntsavekeyex', 'ntsettimerex', 'ntwritefile', 'regcreatekeyex',\n",
              "       'regsavekeyex'], dtype=object)"
            ]
          },
          "metadata": {},
          "execution_count": 5
        }
      ],
      "source": [
        "terms"
      ]
    },
    {
      "cell_type": "code",
      "execution_count": 6,
      "metadata": {
        "id": "fO0LQBx90LDj"
      },
      "outputs": [],
      "source": [
        "def _heatmap(crosstab):\n",
        "    plt.clf()\n",
        "    p = seaborn.heatmap(crosstab, square=True)\n",
        "    plt.tight_layout()\n",
        "    plt.show()\n",
        "\n",
        "def _cv(X, y, k, name, clf, csvname, modeldir=None, terms=None, resultdir=None):\n",
        "    print('## %s' % name)\n",
        "    print('### Cross Validation')\n",
        "    print('`%s`' % str(cross_val_score(clf, X, y, cv=k)))\n",
        "    print('### CV Confusion Matrix')\n",
        "    y_pred = cross_val_predict(clf, X, y, cv=k)\n",
        "    print('```')\n",
        "    print(pd.crosstab(y, y_pred, rownames=['True'], colnames=['Predicted']))\n",
        "    print('```')\n",
        "    _heatmap(pd.crosstab(y, y_pred, rownames=['True'], colnames=['Predicted'],\n",
        "                         normalize='index'))\n",
        "    clf.fit(X, y)\n",
        "    return clf"
      ]
    },
    {
      "cell_type": "code",
      "execution_count": 7,
      "metadata": {
        "scrolled": true,
        "id": "9Fh9dcvH0LDk",
        "outputId": "91141229-db06-4133-a7c2-2f58dbdd607a",
        "colab": {
          "base_uri": "https://localhost:8080/",
          "height": 666
        }
      },
      "outputs": [
        {
          "output_type": "stream",
          "name": "stdout",
          "text": [
            "## name\n",
            "### Cross Validation\n",
            "`[1. 1. 1. 1. 1. 1. 1. 1. 1. 1.]`\n",
            "### CV Confusion Matrix\n",
            "```\n",
            "Predicted     0     1\n",
            "True                 \n",
            "0          1000     0\n",
            "1             0  1000\n",
            "```\n"
          ]
        },
        {
          "output_type": "display_data",
          "data": {
            "text/plain": [
              "<Figure size 640x480 with 2 Axes>"
            ],
            "image/png": "[encoded data removed]"
          },
          "metadata": {}
        }
      ],
      "source": [
        "clf = _cv(X, y, 10, 'name', LogisticRegression(solver='lbfgs'), 'foo.csv', modeldir='../work', terms=terms, resultdir='../work')"
      ]
    },
    {
      "cell_type": "code",
      "execution_count": 8,
      "metadata": {
        "id": "k4QKWDlZ0LDk",
        "outputId": "dfeb6c8b-b59c-46cb-9380-c57be32a0a25",
        "colab": {
          "base_uri": "https://localhost:8080/"
        }
      },
      "outputs": [
        {
          "output_type": "execute_result",
          "data": {
            "text/plain": [
              "array([0, 1])"
            ]
          },
          "metadata": {},
          "execution_count": 8
        }
      ],
      "source": [
        "clf.classes_"
      ]
    },
    {
      "cell_type": "code",
      "execution_count": 9,
      "metadata": {
        "id": "FPg216LK0LDk",
        "outputId": "af5190a3-d630-463d-a633-e47e42bb4254",
        "colab": {
          "base_uri": "https://localhost:8080/"
        }
      },
      "outputs": [
        {
          "output_type": "execute_result",
          "data": {
            "text/plain": [
              "array([ 2.24482262,  2.24424061, -2.14186277, -2.13967196, -2.1405273 ,\n",
              "        2.24523331, -2.13965475, -2.13854639, -2.13845327, -2.1407568 ,\n",
              "       -2.14462209,  2.24613296,  2.24276795,  0.10771154,  2.24801507,\n",
              "        2.2431061 ])"
            ]
          },
          "metadata": {},
          "execution_count": 9
        }
      ],
      "source": [
        "clf.coef_[0]"
      ]
    },
    {
      "cell_type": "code",
      "execution_count": 10,
      "metadata": {
        "id": "tXK8qgwa0LDl",
        "outputId": "f046b91e-1510-4840-c528-eacaf69bff7b",
        "colab": {
          "base_uri": "https://localhost:8080/"
        }
      },
      "outputs": [
        {
          "output_type": "execute_result",
          "data": {
            "text/plain": [
              "array(['ntcreateprocessex', 'ntcreatethreadex', 'ntcreateuserprocess',\n",
              "       'ntdisplaystring', 'ntdrawtext', 'ntmodifybootentry', 'ntopenfile',\n",
              "       'ntopenkeyex', 'ntopentimer', 'ntquerydirectoryfile', 'ntreadfile',\n",
              "       'ntsavekeyex', 'ntsettimerex', 'ntwritefile', 'regcreatekeyex',\n",
              "       'regsavekeyex'], dtype=object)"
            ]
          },
          "metadata": {},
          "execution_count": 10
        }
      ],
      "source": [
        "terms"
      ]
    },
    {
      "cell_type": "markdown",
      "metadata": {
        "id": "5rpjZp6e0LDl"
      },
      "source": [
        "# Exploration\n",
        "\n",
        "Let's spend some time familiarizing ourselves with the input data and the classifier. First, we'll examine the dataset in more detail. Then, we'll go over how to interact with the classifier through the vectorizer and `numpy`.\n",
        "\n",
        "## Dataset"
      ]
    },
    {
      "cell_type": "code",
      "execution_count": 11,
      "metadata": {
        "id": "xew1h86d0LDl",
        "outputId": "b71d1864-2b9d-41ae-e447-eec8105e2208",
        "colab": {
          "base_uri": "https://localhost:8080/"
        }
      },
      "outputs": [
        {
          "output_type": "stream",
          "name": "stdout",
          "text": [
            "num malicious traces: 1000\n",
            "num benign traces: 1000\n",
            "malicious trace path: malicious-traces/0920.trace\n",
            "benign trace path: benign-traces/0920.trace\n",
            "\n",
            "# Sample Trace\n",
            "NtCreateProcessEx\n",
            "NtCreateProcessEx\n",
            "NtSaveKeyEx\n",
            "NtWriteFile\n",
            "NtCreateThreadEx\n",
            "RegCreateKeyEx\n",
            "NtWriteF...\n",
            "len(trace): 402616\n"
          ]
        }
      ],
      "source": [
        "# Load all malicious and benign traces from the ground truth dataset\n",
        "maltraces, bentraces = gettraces()\n",
        "print('num malicious traces: %d' % len(maltraces))\n",
        "print('num benign traces: %d' % len(bentraces))\n",
        "print('malicious trace path: %s' % maltraces[0])\n",
        "print('benign trace path: %s' % bentraces[0])\n",
        "\n",
        "# Let's see what a trace file looks like!\n",
        "with open(maltraces[0]) as f:\n",
        "    maltrace = f.read()\n",
        "\n",
        "print('\\n# Sample Trace')\n",
        "print(maltrace[:100] + '...')\n",
        "print('len(trace): %d' % len(maltrace))\n",
        "# i/o basics\n",
        "# numpy basics\n",
        "# classifier basics"
      ]
    },
    {
      "cell_type": "markdown",
      "metadata": {
        "id": "JJ9TwwoO0LDm"
      },
      "source": [
        "So we have 1000 malicious and 1000 benign traces, which are simple text files. The traces files contain one [win32 API call](https://docs.microsoft.com/en-us/windows/win32/api/winreg/nf-winreg-regcreatekeyexa) per line. What is the distribution of system calls in this single malicious trace we've been analyzing?"
      ]
    },
    {
      "cell_type": "code",
      "execution_count": 12,
      "metadata": {
        "id": "TpCas2AF0LDm",
        "outputId": "031de260-6083-4826-c9a1-2a6fc2f6e117",
        "colab": {
          "base_uri": "https://localhost:8080/"
        }
      },
      "outputs": [
        {
          "output_type": "execute_result",
          "data": {
            "text/plain": [
              "[('NtWriteFile', 3379),\n",
              " ('NtCreateProcessEx', 3120),\n",
              " ('NtCreateThreadEx', 3118),\n",
              " ('NtSetTimerEx', 3099),\n",
              " ('NtModifyBootEntry', 3082),\n",
              " ('NtSaveKeyEx', 3071),\n",
              " ('RegCreateKeyEx', 3065),\n",
              " ('RegSaveKeyEx', 3034),\n",
              " ('NtReadFile', 339),\n",
              " ('NtOpenTimer', 319),\n",
              " ('NtDrawText', 318),\n",
              " ('NtQueryDirectoryFile', 304),\n",
              " ('NtCreateUserProcess', 303),\n",
              " ('NtOpenKeyEx', 301),\n",
              " ('NtDisplayString', 300),\n",
              " ('NtOpenFile', 269)]"
            ]
          },
          "metadata": {},
          "execution_count": 12
        }
      ],
      "source": [
        "def frequency(trace):\n",
        "    return Counter(trace.splitlines())\n",
        "frequency(maltrace).most_common()"
      ]
    },
    {
      "cell_type": "markdown",
      "metadata": {
        "id": "hbsAOtSi0LDm"
      },
      "source": [
        "And for a single benign trace?"
      ]
    },
    {
      "cell_type": "code",
      "execution_count": 13,
      "metadata": {
        "id": "XfoV0Eqp0LDm",
        "outputId": "5fef6c59-7ae9-45c6-d67a-2e1ed8c01fb6",
        "colab": {
          "base_uri": "https://localhost:8080/"
        }
      },
      "outputs": [
        {
          "output_type": "execute_result",
          "data": {
            "text/plain": [
              "[('NtWriteFile', 784),\n",
              " ('NtOpenTimer', 765),\n",
              " ('NtOpenFile', 731),\n",
              " ('NtDisplayString', 724),\n",
              " ('NtOpenKeyEx', 695),\n",
              " ('NtCreateUserProcess', 691),\n",
              " ('NtDrawText', 685),\n",
              " ('NtQueryDirectoryFile', 683),\n",
              " ('NtReadFile', 682),\n",
              " ('NtSaveKeyEx', 102),\n",
              " ('NtCreateThreadEx', 97),\n",
              " ('RegCreateKeyEx', 85),\n",
              " ('NtModifyBootEntry', 82),\n",
              " ('NtCreateProcessEx', 81),\n",
              " ('NtSetTimerEx', 77),\n",
              " ('RegSaveKeyEx', 73)]"
            ]
          },
          "metadata": {},
          "execution_count": 13
        }
      ],
      "source": [
        "with open(bentraces[0]) as f:\n",
        "    bentrace = f.read()\n",
        "\n",
        "frequency(bentrace).most_common()"
      ]
    },
    {
      "cell_type": "markdown",
      "metadata": {
        "id": "z0g2crtN0LDm"
      },
      "source": [
        "What are some of the differences between these two traces? Post your answers in Group Chat!\n",
        "\n",
        "The `Counter` class let's us add two of them together to merge the counts. For example:"
      ]
    },
    {
      "cell_type": "code",
      "execution_count": 14,
      "metadata": {
        "id": "5Bw8sQCy0LDm",
        "outputId": "8dd239d8-ee81-41c2-bdcc-20253e46a87a",
        "colab": {
          "base_uri": "https://localhost:8080/"
        }
      },
      "outputs": [
        {
          "output_type": "execute_result",
          "data": {
            "text/plain": [
              "[('NtWriteFile', 4163),\n",
              " ('NtCreateThreadEx', 3215),\n",
              " ('NtCreateProcessEx', 3201),\n",
              " ('NtSetTimerEx', 3176),\n",
              " ('NtSaveKeyEx', 3173),\n",
              " ('NtModifyBootEntry', 3164),\n",
              " ('RegCreateKeyEx', 3150),\n",
              " ('RegSaveKeyEx', 3107),\n",
              " ('NtOpenTimer', 1084),\n",
              " ('NtDisplayString', 1024),\n",
              " ('NtReadFile', 1021),\n",
              " ('NtDrawText', 1003),\n",
              " ('NtOpenFile', 1000),\n",
              " ('NtOpenKeyEx', 996),\n",
              " ('NtCreateUserProcess', 994),\n",
              " ('NtQueryDirectoryFile', 987)]"
            ]
          },
          "metadata": {},
          "execution_count": 14
        }
      ],
      "source": [
        "(frequency(maltrace) + frequency(bentrace)).most_common()"
      ]
    },
    {
      "cell_type": "markdown",
      "metadata": {
        "id": "YO1yxHYV0LDn"
      },
      "source": [
        "## Vectorizer, Numpy, and Classifier\n",
        "\n",
        "This particular classifier relies on a `vectorizer` that turns raw text---like our traces---into a numerical feature vector. This allows us to use our typical machine learning algorithms on text data. Let's create a matrix containing two feature vectors containing the malicious and benign traces from above."
      ]
    },
    {
      "cell_type": "code",
      "execution_count": 15,
      "metadata": {
        "id": "XEmaJ-Tb0LDn",
        "outputId": "5989a07c-38b5-4334-c897-8c2257f7d370",
        "colab": {
          "base_uri": "https://localhost:8080/"
        }
      },
      "outputs": [
        {
          "output_type": "stream",
          "name": "stdout",
          "text": [
            "(2, 16)\n"
          ]
        },
        {
          "output_type": "execute_result",
          "data": {
            "text/plain": [
              "matrix([[0.3515576 , 0.35133224, 0.03414165, 0.03380362, 0.03583183,\n",
              "         0.34727581, 0.03031057, 0.03391629, 0.03594451, 0.03425433,\n",
              "         0.03819809, 0.34603634, 0.34919134, 0.38074139, 0.34536027,\n",
              "         0.34186723],\n",
              "        [0.03747694, 0.04487979, 0.3197107 , 0.33497908, 0.31693463,\n",
              "         0.03793962, 0.33821783, 0.32156141, 0.35394889, 0.31600927,\n",
              "         0.31554659, 0.04719319, 0.03562623, 0.36273978, 0.03932765,\n",
              "         0.03377552]])"
            ]
          },
          "metadata": {},
          "execution_count": 15
        }
      ],
      "source": [
        "A = vectorizer.transform([maltrace, bentrace])\n",
        "print(A.shape)\n",
        "\n",
        "A.todense()"
      ]
    },
    {
      "cell_type": "markdown",
      "metadata": {
        "id": "bV5IMBvu0LDn"
      },
      "source": [
        "So we see that `vectorizer.transform` takes a list of traces (the raw text from the file, _not_ the path) as input and returns a matrix of values where each row corresponds to the trace and the columns represent the vectorized text, i.e., our features. This means our dataset contains 16 features.\n",
        "\n",
        "Since we now have a matrix of values, we can do simple matrix arithmetic to manipulate the feature vectors. For those not familiar with the library `numpy` (here `import numpy as np`), we can construct `n`-dimensional arrays with `np.array`. For example:"
      ]
    },
    {
      "cell_type": "code",
      "execution_count": 16,
      "metadata": {
        "id": "PyluET0I0LDn",
        "outputId": "d2e5596b-2a19-4625-930b-fc578d488db0",
        "colab": {
          "base_uri": "https://localhost:8080/"
        }
      },
      "outputs": [
        {
          "output_type": "stream",
          "name": "stdout",
          "text": [
            "(16,)\n",
            "[ 0  1  2  3  4  5  6  7  8  9 10 11 12 13 14 15]\n"
          ]
        }
      ],
      "source": [
        "a = np.array(range(16))\n",
        "print(a.shape)\n",
        "print(a)"
      ]
    },
    {
      "cell_type": "markdown",
      "metadata": {
        "id": "Fw7XBXFt0LDn"
      },
      "source": [
        "Creates a 1-dimensional array (a vector) of the values 0--15. We can now do vectorized arithmetic to affect all the values in a matrix without having to waste time looping through each row. For example, the snippet below adds 1 to every other column in the feature vector matrix."
      ]
    },
    {
      "cell_type": "code",
      "execution_count": 17,
      "metadata": {
        "id": "5g8iN9YC0LDn",
        "outputId": "35fde629-653b-45fb-ad2f-5e5e031377bd",
        "colab": {
          "base_uri": "https://localhost:8080/"
        }
      },
      "outputs": [
        {
          "output_type": "execute_result",
          "data": {
            "text/plain": [
              "matrix([[1.3515576 , 0.35133224, 1.03414165, 0.03380362, 1.03583183,\n",
              "         0.34727581, 1.03031057, 0.03391629, 1.03594451, 0.03425433,\n",
              "         1.03819809, 0.34603634, 1.34919134, 0.38074139, 1.34536027,\n",
              "         0.34186723],\n",
              "        [1.03747694, 0.04487979, 1.3197107 , 0.33497908, 1.31693463,\n",
              "         0.03793962, 1.33821783, 0.32156141, 1.35394889, 0.31600927,\n",
              "         1.31554659, 0.04719319, 1.03562623, 0.36273978, 1.03932765,\n",
              "         0.03377552]])"
            ]
          },
          "metadata": {},
          "execution_count": 17
        }
      ],
      "source": [
        "A + np.array([1, 0, 1, 0, 1, 0, 1, 0, 1, 0, 1, 0, 1, 0, 1, 0])"
      ]
    },
    {
      "cell_type": "markdown",
      "metadata": {
        "id": "0QIHP5LE0LDn"
      },
      "source": [
        "So now that we have a matrix, how do we use the classifier? Our classifier was built above and stored as `clf`. We can use the `clf.predict()` method to predict whether a vectorized trace is from a malicious or benign program. Note that `1` means malicious and `0` means benign."
      ]
    },
    {
      "cell_type": "code",
      "execution_count": 18,
      "metadata": {
        "id": "tBuhSVir0LDo",
        "outputId": "4f17b0cf-8be5-43a5-8b4e-7b36c4718677",
        "colab": {
          "base_uri": "https://localhost:8080/"
        }
      },
      "outputs": [
        {
          "output_type": "execute_result",
          "data": {
            "text/plain": [
              "array([1, 0])"
            ]
          },
          "metadata": {},
          "execution_count": 18
        }
      ],
      "source": [
        "clf.predict(A)"
      ]
    },
    {
      "cell_type": "markdown",
      "metadata": {
        "id": "c_LQEFyi0LDo"
      },
      "source": [
        "This means our first row was classified as malicious and our second row was classified as benign. Considering `A` was constructed by running `vectorizer.transform([maltrace, bentrace])`, this makes perfect sense! Since `A` is just a matrix of values, we can also classify the manipulation of these matrices as we had done above. For example, let's add a vector to `A` and see how it impacts the classifier's output:"
      ]
    },
    {
      "cell_type": "code",
      "execution_count": 25,
      "metadata": {
        "id": "MUVdN-RS0LDo",
        "outputId": "d67368cd-48e0-4059-849e-b7485927bee3",
        "colab": {
          "base_uri": "https://localhost:8080/"
        }
      },
      "outputs": [
        {
          "output_type": "execute_result",
          "data": {
            "text/plain": [
              "array([1, 1])"
            ]
          },
          "metadata": {},
          "execution_count": 25
        }
      ],
      "source": [
        "clf.predict(np.asarray(A.todense()) + np.array(range(16)))"
      ]
    },
    {
      "cell_type": "markdown",
      "metadata": {
        "id": "uaZKABiV0LDo"
      },
      "source": [
        "Notice that this affected the classification result! Both are now considered malicious. Soon, we'll figure out how to do this in the other direction :). But first..."
      ]
    },
    {
      "cell_type": "markdown",
      "metadata": {
        "id": "AygJUI0l0LDo"
      },
      "source": [
        "# Warm Up\n",
        "\n",
        "Complete the following exercises to demonstrate familiarity with the dataset:\n",
        "\n",
        "* How many _unique_ system calls are there in this dataset in total?\n",
        "* What is the most common system call? For malicious traces only? What about benign?\n",
        "* Complete the function `get_feature_vector(path, vectorizer)` that given a path to a trace and the example vectorizer, returns the feature vector as a matrix.\n",
        "\n",
        "Post your answers to the Group Chat!"
      ]
    },
    {
      "cell_type": "code",
      "execution_count": 21,
      "metadata": {
        "id": "2Nc3FKj00LDo",
        "outputId": "787b96f8-ff08-4d79-bbfa-30a138f0cab3",
        "colab": {
          "base_uri": "https://localhost:8080/"
        }
      },
      "outputs": [
        {
          "output_type": "stream",
          "name": "stdout",
          "text": [
            "# system calls: 16\n",
            "most common (all): ('NtWriteFile', 5849568)\n",
            "most common (mal): ('NtWriteFile', 3141803)\n",
            "most common (ben): ('NtWriteFile', 2707765)\n",
            "least common (all): ('NtOpenTimer', 2687380)\n",
            "least common (mal): ('NtOpenTimer', 281636)\n",
            "least common (ben): ('NtSetTimerEx', 300542)\n"
          ]
        }
      ],
      "source": [
        "# TODO: delete\n",
        "mal_counts = Counter()\n",
        "for path in maltraces:\n",
        "    with open(path) as f:\n",
        "        trace = f.read()\n",
        "        mal_counts += frequency(trace)\n",
        "\n",
        "ben_counts = Counter()\n",
        "for path in bentraces:\n",
        "    with open(path) as f:\n",
        "        trace = f.read()\n",
        "        ben_counts += frequency(trace)\n",
        "\n",
        "all_counts = mal_counts + ben_counts\n",
        "\n",
        "print('# system calls: %d' % len(all_counts))\n",
        "print('most common (all):', all_counts.most_common()[0])\n",
        "print('most common (mal):', mal_counts.most_common()[0])\n",
        "print('most common (ben):', ben_counts.most_common()[0])\n",
        "\n",
        "print('least common (all):', all_counts.most_common()[-1])\n",
        "print('least common (mal):', mal_counts.most_common()[-1])\n",
        "print('least common (ben):', ben_counts.most_common()[-1])\n",
        "# ODOT\n",
        "\n",
        "# TODO: Change to pass\n",
        "def get_feature_vector(path, vectorizer):\n",
        "    with open(path) as f:\n",
        "        return vectorizer.transform([f.read()])"
      ]
    },
    {
      "cell_type": "markdown",
      "metadata": {
        "id": "E-j6Sjms0LDo"
      },
      "source": [
        "# Direct Attack\n",
        "\n",
        "You (somehow) have direct access to the feature vectors. Don't ask how, celebrate! Let's try to figure out the difference between malicious and benign feature vectors."
      ]
    },
    {
      "cell_type": "markdown",
      "metadata": {
        "id": "3gQaY86M0LDp"
      },
      "source": [
        "### Retrieve and Examine Vectors\n",
        "\n",
        "Let's dig into these features vectors. We can understand them better by comparing the feature vectors for one malicious trace, one benign trace, and their difference."
      ]
    },
    {
      "cell_type": "code",
      "execution_count": 22,
      "metadata": {
        "id": "I_UK9xWe0LDp"
      },
      "outputs": [],
      "source": [
        "mal_fv = get_feature_vector(maltraces[0], vectorizer)\n",
        "ben_fv = get_feature_vector(bentraces[0], vectorizer)"
      ]
    },
    {
      "cell_type": "code",
      "execution_count": 23,
      "metadata": {
        "scrolled": false,
        "id": "Pg0j_6j40LDp",
        "outputId": "b1206ac2-9122-42e4-a507-a0d2545fe946",
        "colab": {
          "base_uri": "https://localhost:8080/"
        }
      },
      "outputs": [
        {
          "output_type": "stream",
          "name": "stdout",
          "text": [
            "malicious\t\t\tbenign\t\t\t\t\tmalicious - benign\n",
            "  (0, 0)\t0.35155759768112743\t  (0, 0)\t0.03747694145634657\t\t  (0, 0)\t0.3140806562247809\n",
            "  (0, 1)\t0.35133224024671644\t  (0, 1)\t0.044879794089698985\t\t  (0, 1)\t0.30645244615701744\n",
            "  (0, 2)\t0.034141651313263334\t  (0, 2)\t0.3197106981029072\t\t  (0, 2)\t-0.28556904678964384\n",
            "  (0, 3)\t0.033803615161646865\t  (0, 3)\t0.33497908165919654\t\t  (0, 3)\t-0.30117546649754967\n",
            "  (0, 4)\t0.03583183207134568\t  (0, 4)\t0.31693462836540004\t\t  (0, 4)\t-0.2811027962940544\n",
            "  (0, 5)\t0.3472758064273188\t  (0, 5)\t0.037939619745931095\t\t  (0, 5)\t0.30933618668138774\n",
            "  (0, 6)\t0.03031057492827669\t  (0, 6)\t0.3382178296862882\t\t  (0, 6)\t-0.3079072547580115\n",
            "  (0, 7)\t0.03391629387885236\t  (0, 7)\t0.32156141126124527\t\t  (0, 7)\t-0.2876451173823929\n",
            "  (0, 8)\t0.03594451078855117\t  (0, 8)\t0.3539488915321621\t\t  (0, 8)\t-0.3180043807436109\n",
            "  (0, 9)\t0.03425433003046883\t  (0, 9)\t0.316009271786231\t\t  (0, 9)\t-0.28175494175576216\n",
            "  (0, 10)\t0.03819808513266096\t  (0, 10)\t0.31554659349664643\t\t  (0, 10)\t-0.2773485083639855\n",
            "  (0, 11)\t0.34603634053805843\t  (0, 11)\t0.04719318553762161\t\t  (0, 11)\t0.2988431550004368\n",
            "  (0, 12)\t0.34919134461981216\t  (0, 12)\t0.03562622829800847\t\t  (0, 12)\t0.31356511632180367\n",
            "  (0, 13)\t0.3807413854373492\t  (0, 13)\t0.3627397790342681\t\t  (0, 13)\t0.018001606403081127\n",
            "  (0, 14)\t0.3453602682348255\t  (0, 14)\t0.039327654614684675\t\t  (0, 14)\t0.30603261362014084\n",
            "  (0, 15)\t0.3418672280014553\t  (0, 15)\t0.03377551513967037\t\t  (0, 15)\t0.30809171286178494\n"
          ]
        }
      ],
      "source": [
        "print('malicious\\t\\t\\tbenign\\t\\t\\t\\t\\tmalicious - benign')\n",
        "diff_fv = mal_fv - ben_fv\n",
        "for mal, ben, diff in reversed(list(zip(str(mal_fv).split('\\n'),\n",
        "                                        str(ben_fv).split('\\n'),\n",
        "                                        reversed(str(diff_fv).split('\\n'))))):\n",
        "    print('%s\\t%s\\t\\t%s' % (mal, ben, diff))"
      ]
    },
    {
      "cell_type": "markdown",
      "metadata": {
        "id": "ZJIfkViD0LDp"
      },
      "source": [
        "What are some ways you could you could make this malicious feature vector \"look\" more like the benign one? Do you believe these feature vectors are representative of the two distributions (malicious vs. benign)? Why or why not? Post your answers in Group Chat!\n",
        "\n",
        "Based on what we discussed, modify the `feature_vector_malicious_to_benign` function below such that it transforms a malicious feature vector into a benign feature vector."
      ]
    },
    {
      "cell_type": "code",
      "execution_count": 27,
      "metadata": {
        "id": "hHoB5jR50LDp",
        "outputId": "45df9857-e79b-42fc-f4c9-f224b8683d99",
        "colab": {
          "base_uri": "https://localhost:8080/"
        }
      },
      "outputs": [
        {
          "output_type": "stream",
          "name": "stdout",
          "text": [
            "[1]\n",
            "[0]\n"
          ]
        }
      ],
      "source": [
        "def feature_vector_malicious_to_benign(fv):\n",
        "    \"\"\"This adds 1 to all indices in a malicious vector that are smaller than the benign vector to\n",
        "    transform it into a vector that will classify as benign.\"\"\"\n",
        "    delta = np.array([0, 0, 1, 1, 1, 0, 1, 1, 1, 1, 1, 0, 0, 0, 0, 0]) # TODO: Change to 0... in notebook. Delete function comment.\n",
        "    return np.asarray(fv + delta)\n",
        "print(clf.predict(mal_fv))\n",
        "print(clf.predict(feature_vector_malicious_to_benign(mal_fv)))"
      ]
    },
    {
      "cell_type": "markdown",
      "metadata": {
        "id": "x2TrMTDo0LDu"
      },
      "source": [
        "Great! We have successfully switched one trace from being classified as malicious (1) to benign (0). Let's see if our function works on _all_ of the malicious samples now. Run the cell below (and replace `feature_vector_malicious_to_benign` with your function if you gave it a different name). Are all the mutated ones classified as benign (0)? If not, tweak `feature_vector_malicious_to_benign` until it does."
      ]
    },
    {
      "cell_type": "code",
      "execution_count": 28,
      "metadata": {
        "id": "8y0HoVMq0LDu",
        "outputId": "70e38a8e-53fa-43fd-9a68-72da024d255b",
        "colab": {
          "base_uri": "https://localhost:8080/"
        }
      },
      "outputs": [
        {
          "output_type": "stream",
          "name": "stdout",
          "text": [
            "original: Counter({1: 1000})\n",
            "mutated:  Counter({0: 1000})\n"
          ]
        }
      ],
      "source": [
        "def mutate_all_malicious(mutate_fn):\n",
        "    maltraces, _ = gettraces()\n",
        "    A = vectorizer.transform([open(x).read() for x in maltraces])\n",
        "    A_mutated = mutate_fn(A)\n",
        "\n",
        "    print('original:', Counter(clf.predict(A)))\n",
        "    print('mutated: ', Counter(clf.predict(A_mutated)))\n",
        "\n",
        "mutate_all_malicious(feature_vector_malicious_to_benign)"
      ]
    },
    {
      "cell_type": "markdown",
      "metadata": {
        "id": "Gmu01A2h0LDu"
      },
      "source": [
        "Huzzah! Our malware is now undetectable!"
      ]
    },
    {
      "cell_type": "markdown",
      "metadata": {
        "id": "OwnwUXzO0LDu"
      },
      "source": [
        "## Indirect Attack Part 1 (Find terms)\n",
        "\n",
        "So we've made our malware undetectable (above), but we did so by directly manipulating the feature vector. This assumes a powerful and/or dedicated attacker and we're a bit lazy. How can we alter our malware's _behavior_ such that our malware is classified as benign software? Let's identify `terms` that are more likely to be associated with benign software than malicious software. We can do this a couple of different ways. One is to look at the distribution of these system calls in malicious vs. benign traces:"
      ]
    },
    {
      "cell_type": "code",
      "execution_count": 29,
      "metadata": {
        "id": "PyxDBhHe0LDu",
        "outputId": "39715afb-c97b-4b1c-cb98-25c50258ee7d",
        "colab": {
          "base_uri": "https://localhost:8080/",
          "height": 487
        }
      },
      "outputs": [
        {
          "output_type": "display_data",
          "data": {
            "text/plain": [
              "<Figure size 640x480 with 1 Axes>"
            ],
            "image/png": "[encoded data removed]"
          },
          "metadata": {}
        }
      ],
      "source": [
        "# Get counts for each trace\n",
        "mal_counts = Counter()\n",
        "for path in maltraces:\n",
        "    with open(path) as f:\n",
        "        trace = f.read()\n",
        "        mal_counts += frequency(trace)\n",
        "\n",
        "ben_counts = Counter()\n",
        "for path in bentraces:\n",
        "    with open(path) as f:\n",
        "        trace = f.read()\n",
        "        ben_counts += frequency(trace)\n",
        "\n",
        "# Build DataFrame\n",
        "mal_syscalls, mal_freq = zip(*mal_counts.items())\n",
        "ben_syscalls, ben_freq = zip(*ben_counts.items())\n",
        "df = pd.concat([pd.DataFrame({'syscall': mal_syscalls, 'count': mal_freq, 'classlabel': 'malicious'}),\n",
        "                pd.DataFrame({'syscall': ben_syscalls, 'count': ben_freq, 'classlabel': 'benign'})])\n",
        "\n",
        "# Plot it!\n",
        "p = seaborn.barplot(x='count', y='syscall', hue='classlabel', data=df)\n",
        "plt.tight_layout()\n",
        "plt.show()"
      ]
    },
    {
      "cell_type": "markdown",
      "metadata": {
        "id": "ZGZkvbpk0LDu"
      },
      "source": [
        "Notice how different the frequencies are between malicious and benign execution traces! Which one of the system calls occurs in roughly the same number of benign and malicious traces? If you wanted to make your malware appear to be benign, which system calls would you inject? Post you answers in Group Chat!\n",
        "\n",
        "It is important to note a few things:\n",
        "* This example is synthetic. It's unlikely the differences will be this extreme!\n",
        "* This is _not_ directly related to the model we are attacking!\n",
        "\n",
        "How can we better understand what the _model_ believes are system calls that indicate malicious vs. benign behavior? Let's dig into the classifier's _coefficients_ and its terms. Defined above are `clf.coef_` and `terms`, which show the model's coefficients for each system call, respectively. The 0th coefficient corresponds to the 0th terms, etc., so let's examine these directly:"
      ]
    },
    {
      "cell_type": "code",
      "execution_count": 30,
      "metadata": {
        "id": "eIQwI2bU0LDv",
        "outputId": "8ef0f7b3-6de9-4e0f-df2c-1ac99e8ed690",
        "colab": {
          "base_uri": "https://localhost:8080/"
        }
      },
      "outputs": [
        {
          "output_type": "execute_result",
          "data": {
            "text/plain": [
              "[(-2.144622087973717, 'ntreadfile'),\n",
              " (-2.1418627669686754, 'ntcreateuserprocess'),\n",
              " (-2.14075679846129, 'ntquerydirectoryfile'),\n",
              " (-2.1405272962289374, 'ntdrawtext'),\n",
              " (-2.139671958251064, 'ntdisplaystring'),\n",
              " (-2.139654749547881, 'ntopenfile'),\n",
              " (-2.138546391661048, 'ntopenkeyex'),\n",
              " (-2.138453274413692, 'ntopentimer'),\n",
              " (0.10771154443371536, 'ntwritefile'),\n",
              " (2.242767946060603, 'ntsettimerex'),\n",
              " (2.2431060978323165, 'regsavekeyex'),\n",
              " (2.2442406107176405, 'ntcreatethreadex'),\n",
              " (2.244822624665083, 'ntcreateprocessex'),\n",
              " (2.245233313408202, 'ntmodifybootentry'),\n",
              " (2.246132957843823, 'ntsavekeyex'),\n",
              " (2.2480150712142497, 'regcreatekeyex')]"
            ]
          },
          "metadata": {},
          "execution_count": 30
        }
      ],
      "source": [
        "sorted(list(zip(clf.coef_[0], terms)))"
      ]
    },
    {
      "cell_type": "markdown",
      "metadata": {
        "id": "TtMzP_FG0LDv"
      },
      "source": [
        "How do these values correspond to the counts we saw in the previous plot? If you were trying to make a malicious binary appear benign, which system calls would you force you malware to call? Why? Post your thoughts in Group Chat!"
      ]
    },
    {
      "cell_type": "markdown",
      "metadata": {
        "id": "468RfHj_0LDv"
      },
      "source": [
        "## Indirect Attack Part 2 (Adversarial Sample Generation)"
      ]
    },
    {
      "cell_type": "markdown",
      "metadata": {
        "id": "DncKxoQX0LDv"
      },
      "source": [
        "Based on what we learned above, modify the `gen_adversarial_sample` function below to have `syscall` default to one that is more associated with benign traces than malicious traces."
      ]
    },
    {
      "cell_type": "code",
      "execution_count": 31,
      "metadata": {
        "id": "Bt6IZ-jR0LDv"
      },
      "outputs": [],
      "source": [
        "def gen_adversarial_sample(path, syscall='ntreadfile'): # TODO: Change to 'ntwritefile' in notebook\n",
        "    with open(path) as f:\n",
        "        s = f.read()\n",
        "        numsyscalls = len(s.split())\n",
        "        s_benign = s + '\\n' + '\\n'.join(itertools.repeat(syscall, numsyscalls))\n",
        "        return s, s_benign"
      ]
    },
    {
      "cell_type": "code",
      "execution_count": 33,
      "metadata": {
        "id": "gbFUVVzw0LDv",
        "outputId": "0b788e08-a886-4e92-d041-bcc9a92c3ff6",
        "colab": {
          "base_uri": "https://localhost:8080/"
        }
      },
      "outputs": [
        {
          "output_type": "stream",
          "name": "stdout",
          "text": [
            "186656\n",
            "326543\n"
          ]
        }
      ],
      "source": [
        "s, s_benign = gen_adversarial_sample('malicious-traces/0999.trace')\n",
        "print(len(s))\n",
        "print(len(s_benign))"
      ]
    },
    {
      "cell_type": "code",
      "execution_count": 34,
      "metadata": {
        "id": "x6lO3R8G0LDv",
        "outputId": "a1552605-7622-487c-a94d-99a6f97d24a3",
        "colab": {
          "base_uri": "https://localhost:8080/"
        }
      },
      "outputs": [
        {
          "output_type": "execute_result",
          "data": {
            "text/plain": [
              "array([1, 0])"
            ]
          },
          "metadata": {},
          "execution_count": 34
        }
      ],
      "source": [
        "# It works!\n",
        "clf.predict(vectorizer.transform([s, s_benign]))"
      ]
    },
    {
      "cell_type": "code",
      "execution_count": 35,
      "metadata": {
        "id": "XWMBSgOk0LDw",
        "outputId": "56b0b4ca-e0dc-417b-c24a-ec8f52fb8e6c",
        "colab": {
          "base_uri": "https://localhost:8080/"
        }
      },
      "outputs": [
        {
          "output_type": "stream",
          "name": "stdout",
          "text": [
            "Counter({1: 1000})\n",
            "Counter({0: 1000})\n"
          ]
        }
      ],
      "source": [
        "orig = []\n",
        "mutated = []\n",
        "for maltrace in maltraces:\n",
        "    mal, adv = gen_adversarial_sample(maltrace)\n",
        "    malvec = vectorizer.transform([mal])\n",
        "    advvec = vectorizer.transform([adv])\n",
        "    orig.append(clf.predict(malvec))\n",
        "    mutated.append(clf.predict(advvec))\n",
        "print(Counter([x[0] for x in orig]))\n",
        "print(Counter([x[0] for x in mutated]))"
      ]
    },
    {
      "cell_type": "markdown",
      "metadata": {
        "id": "awWsts2j0LDw"
      },
      "source": [
        "Not only does it work on a single example, but it breaks everything we saw in the ground truth! Some questions:\n",
        "\n",
        "* Why was the default syscall `'ntwritefile'`?\n",
        "* Describe how `gen_adversarial_sample` works. How would you defend against this if this was one of your models?\n",
        "\n",
        "Post you answers to Group Chat!"
      ]
    },
    {
      "cell_type": "markdown",
      "metadata": {
        "id": "SKH-TrJw0LDw"
      },
      "source": [
        "## Extra Credit: Make Classifier Monotonic\n",
        "\n",
        "A simple way to make a classifier monotonic for our purposes is to not allow attackers to abuse negative coefficient features. Add a vector to `clf.coef` such that there are no longer negative coefficients, and demonstrates this defeats your adversarial generation function from the previous exercise."
      ]
    },
    {
      "cell_type": "markdown",
      "metadata": {
        "id": "pBtlTF3f0LDw"
      },
      "source": [
        "We can accomplish this by:\n",
        "* Identify the index in `clf.coef_` for the feature you abused\n",
        "* Set its weight to `0.0`\n",
        "* Rerunning our classification examples from above"
      ]
    },
    {
      "cell_type": "code",
      "execution_count": 36,
      "metadata": {
        "id": "ubiPwDNA0LDw"
      },
      "outputs": [],
      "source": [
        "clf.coef_[0][clf.coef_.argmin()] = 0.0"
      ]
    },
    {
      "cell_type": "code",
      "execution_count": 37,
      "metadata": {
        "id": "DaquIJnk0LDw",
        "outputId": "91ad84e4-fa10-4e91-bdb1-d46d35c82f16",
        "colab": {
          "base_uri": "https://localhost:8080/"
        }
      },
      "outputs": [
        {
          "output_type": "stream",
          "name": "stdout",
          "text": [
            "Original malicious traces\n",
            "Counter({1: 1000})\n",
            "Adversarial malicious traces\n",
            "Counter({1: 1000})\n",
            "Original benign traces\n",
            "Counter({0: 1000})\n"
          ]
        }
      ],
      "source": [
        "maltraces, bentraces = gettraces()\n",
        "orig = []\n",
        "mutated = []\n",
        "benign = []\n",
        "for maltrace in maltraces:\n",
        "    mal, adv = gen_adversarial_sample(maltrace)\n",
        "    malvec = vectorizer.transform([mal])\n",
        "    advvec = vectorizer.transform([adv])\n",
        "    orig.append(clf.predict(malvec))\n",
        "    mutated.append(clf.predict(advvec))\n",
        "print('Original malicious traces')\n",
        "print(Counter([x[0] for x in orig]))\n",
        "print('Adversarial malicious traces')\n",
        "print(Counter([x[0] for x in mutated]))\n",
        "\n",
        "# What about the benign examples?\n",
        "for bentrace in bentraces:\n",
        "    benvec = get_feature_vector(bentrace, vectorizer)\n",
        "    benign.append(clf.predict(benvec))\n",
        "print('Original benign traces')\n",
        "print(Counter([x[0] for x in benign]))"
      ]
    },
    {
      "cell_type": "markdown",
      "metadata": {
        "id": "R2V3CLZo0LDx"
      },
      "source": [
        "So it works, but we more or less nullified the utility of the feature aside from its interactions with other variables when constructing the model. Sometimes keeping this is desirable, but it could suggest that this feature provides more drawbacks than benefits. This further demonstrates the importance of feature engineering: if the features are useful, but when known can be weaponized by attackers, perhaps it is better to sacrifice accuracy in order to have more resilient models."
      ]
    }
  ],
  "metadata": {
    "kernelspec": {
      "display_name": "Python 3",
      "language": "python",
      "name": "python3"
    },
    "language_info": {
      "codemirror_mode": {
        "name": "ipython",
        "version": 3
      },
      "file_extension": ".py",
      "mimetype": "text/x-python",
      "name": "python",
      "nbconvert_exporter": "python",
      "pygments_lexer": "ipython3",
      "version": "3.6.7"
    },
    "colab": {
      "provenance": []
    }
  },
  "nbformat": 4,
  "nbformat_minor": 0
}
