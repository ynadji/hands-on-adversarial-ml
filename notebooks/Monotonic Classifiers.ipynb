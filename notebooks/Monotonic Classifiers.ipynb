{
  "cells": [
    {
      "cell_type": "code",
      "source": [
        "!wget -cq https://github.com/ynadji/hands-on-adversarial-ml/raw/colab/data/01-monotonic-classifiers/benign-traces.tar.gz\n",
        "!wget -cq https://github.com/ynadji/hands-on-adversarial-ml/raw/colab/data/01-monotonic-classifiers/malicious-traces.tar.gz\n",
        "!wget -cq https://github.com/ynadji/hands-on-adversarial-ml/raw/colab/data/01-monotonic-classifiers/feature-vectors.tar.gz\n",
        "!for x in *.tar.gz; do tar xzf ${x}; done"
      ],
      "metadata": {
        "id": "VpQVqid34HiU"
      },
      "execution_count": 28,
      "outputs": []
    },
    {
      "cell_type": "markdown",
      "metadata": {
        "id": "BIfWyAh_4FB_"
      },
      "source": [
        "# Monotonic Classifiers\n",
        "\n",
        "Some classifiers should never \"flip-flop\" between classes. For example, consider the following classifier that labels system call traces from programs as being benign or malicious programs. No matter how many benign instructions are added to a malicious program, it should never trick the classifier into thinking it is benign.\n",
        "\n",
        "The classifier below takes sequences of system calls obtained from execution traces from malicious and benign programs. Treating each execution trace as a document, we extract a tf-idf[1] vector for feature extraction. Code below is provided that:\n",
        "1. Grabs ground truth traces\n",
        "1. Vectorizes them with tf-idf\n",
        "1. Performs 10-fold cross validation\n",
        "1. Trains a Logistic Regression model\n",
        "\n",
        "Your task as a malware author yourself, is to find direct and indirect ways to break this model so antivirus software cannot detect your code. Approach these tasks in three chunks:\n",
        "1. Manually manipulate a malicious feature vector such that the classifier mistakenly labels it malicious. If you successfully do this once, create a function that given a benign feature vector returns a new one that will be classified as benign.\n",
        "1. Identify features that, given your knowledge of what monotonic classifiers try to solve, could be used to \"flip\" a malicious program into benign one.\n",
        "1. Using the aforementioned features, write a function that transforms a malicious syscall trace (appending is fine) to be classified as benign.\n",
        "1. Modify the classifier so these features can no longer be used to \"flip\" a malicious trace. There's a quick'n'dirty way to do this, but more sophisticated[2] and robust[3] techniques exist if monotonicity is an important feature that your classifier needs.\n",
        "\n",
        "## References\n",
        "* [1] https://en.wikipedia.org/wiki/Tf%E2%80%93idf\n",
        "* [2] https://arxiv.org/pdf/1804.03643.pdf\n",
        "* [3] https://www.slideshare.net/MSbluehat/bluehat-v17-detecting-compromise-on-windows-endpoints-with-osquery"
      ]
    },
    {
      "cell_type": "markdown",
      "metadata": {
        "id": "rCZjO86z4FCE"
      },
      "source": [
        "## Utility Functions"
      ]
    },
    {
      "cell_type": "code",
      "execution_count": 29,
      "metadata": {
        "id": "qB_gfwpt4FCE"
      },
      "outputs": [],
      "source": [
        "import os\n",
        "import sys\n",
        "import fnmatch\n",
        "import random\n",
        "import itertools\n",
        "from collections import Counter\n",
        "\n",
        "from sklearn.feature_extraction.text import TfidfVectorizer\n",
        "from sklearn.linear_model import LogisticRegression, Lasso\n",
        "from sklearn.model_selection import cross_val_score, cross_val_predict\n",
        "import joblib\n",
        "import numpy as np\n",
        "import pandas as pd\n",
        "import seaborn\n",
        "import matplotlib.pyplot as plt\n",
        "\n",
        "## utils\n",
        "def rwalk(directory, pattern):\n",
        "    \"\"\"Recursively search \"directory\" for files that match the Unix shell-style\n",
        "    wildcard given by \"pattern\" (like '*.mp3'). Returns matches as a generator.\"\"\"\n",
        "    for root, dirnames, filenames in os.walk(directory):\n",
        "        for filename in fnmatch.filter(filenames, pattern):\n",
        "            yield os.path.join(root, filename)\n",
        "\n",
        "def gettraces(benignpath='benign-traces',\n",
        "              malpath='malicious-traces'):\n",
        "    return list(rwalk(malpath, '*.trace')), list(rwalk(benignpath, '*.trace'))\n",
        "\n",
        "def get_random_malicious_trace(malpath='malicious-traces'):\n",
        "    \"\"\"Grab the text of a random malicious system call trace.\"\"\"\n",
        "    mal, _ = gettraces(malpath=malpath)\n",
        "    with open(random.choice(mal)) as f:\n",
        "        return f.read()"
      ]
    },
    {
      "cell_type": "markdown",
      "metadata": {
        "id": "v_3fVqM64FCF"
      },
      "source": [
        "## Use the TfidfVectorizer to vectorize ground truth\n",
        "\n",
        "The following extracts vectors from each benign and malicious execution trace and returns four values:\n",
        "1. `X`: the feature vectors\n",
        "1. `y`: the class labels\n",
        "1. `terms`: the list of labels (0 is benign, 1 is malicious)\n",
        "1. `vectorizer`: a TfidfVectorizer which is fit to the terms in the ground truth and can be used to fit new syscall traces with `vectorizer.transform([trace1, trace2, ..., traceN])`"
      ]
    },
    {
      "cell_type": "code",
      "execution_count": 30,
      "metadata": {
        "id": "GQxbSjlu4FCG"
      },
      "outputs": [],
      "source": [
        "def vectorize(featuredir='feature-vectors'):\n",
        "    pos_traces, neg_traces = gettraces()\n",
        "    pos_y = [1 for _ in pos_traces]\n",
        "    neg_y = [0 for _ in neg_traces]\n",
        "    docs = [open(x).read() for x in pos_traces + neg_traces]\n",
        "    y = np.array(pos_y + neg_y)\n",
        "\n",
        "    vectorizer = TfidfVectorizer()\n",
        "    X = vectorizer.fit_transform(docs)\n",
        "    terms = np.asarray(vectorizer.get_feature_names_out())\n",
        "    return X, y, terms, vectorizer\n",
        "\n",
        "X, y, terms, vectorizer = vectorize()"
      ]
    },
    {
      "cell_type": "code",
      "execution_count": 31,
      "metadata": {
        "id": "Ivqg6QAW4FCG",
        "outputId": "58bb49fb-2021-4219-bffb-f335650f08d7",
        "colab": {
          "base_uri": "https://localhost:8080/"
        }
      },
      "outputs": [
        {
          "output_type": "execute_result",
          "data": {
            "text/plain": [
              "<2000x16 sparse matrix of type '<class 'numpy.float64'>'\n",
              "\twith 32000 stored elements in Compressed Sparse Row format>"
            ]
          },
          "metadata": {},
          "execution_count": 31
        }
      ],
      "source": [
        "X"
      ]
    },
    {
      "cell_type": "code",
      "execution_count": 32,
      "metadata": {
        "id": "K-jfTZ7D4FCH",
        "outputId": "80a19363-bf9f-4e7d-f2e8-2a9ad84f4381",
        "colab": {
          "base_uri": "https://localhost:8080/"
        }
      },
      "outputs": [
        {
          "output_type": "execute_result",
          "data": {
            "text/plain": [
              "array(['ntcreateprocessex', 'ntcreatethreadex', 'ntcreateuserprocess',\n",
              "       'ntdisplaystring', 'ntdrawtext', 'ntmodifybootentry', 'ntopenfile',\n",
              "       'ntopenkeyex', 'ntopentimer', 'ntquerydirectoryfile', 'ntreadfile',\n",
              "       'ntsavekeyex', 'ntsettimerex', 'ntwritefile', 'regcreatekeyex',\n",
              "       'regsavekeyex'], dtype=object)"
            ]
          },
          "metadata": {},
          "execution_count": 32
        }
      ],
      "source": [
        "terms"
      ]
    },
    {
      "cell_type": "code",
      "execution_count": 33,
      "metadata": {
        "id": "7xPyzJ0n4FCI"
      },
      "outputs": [],
      "source": [
        "def _heatmap(crosstab):\n",
        "    plt.clf()\n",
        "    p = seaborn.heatmap(crosstab, square=True)\n",
        "    plt.tight_layout()\n",
        "    plt.show()\n",
        "\n",
        "def _cv(X, y, k, name, clf, csvname, modeldir=None, terms=None, resultdir=None):\n",
        "    print('## %s' % name)\n",
        "    print('### Cross Validation')\n",
        "    print('`%s`' % str(cross_val_score(clf, X, y, cv=k)))\n",
        "    print('### CV Confusion Matrix')\n",
        "    y_pred = cross_val_predict(clf, X, y, cv=k)\n",
        "    print('```')\n",
        "    print(pd.crosstab(y, y_pred, rownames=['True'], colnames=['Predicted']))\n",
        "    print('```')\n",
        "    _heatmap(pd.crosstab(y, y_pred, rownames=['True'], colnames=['Predicted'],\n",
        "                         normalize='index'))\n",
        "    clf.fit(X, y)\n",
        "    return clf"
      ]
    },
    {
      "cell_type": "code",
      "execution_count": 34,
      "metadata": {
        "scrolled": true,
        "id": "7T0XJHQG4FCI",
        "outputId": "47b20d8b-67f6-4373-ca74-8ff8e37755e1",
        "colab": {
          "base_uri": "https://localhost:8080/",
          "height": 666
        }
      },
      "outputs": [
        {
          "output_type": "stream",
          "name": "stdout",
          "text": [
            "## name\n",
            "### Cross Validation\n",
            "`[1. 1. 1. 1. 1. 1. 1. 1. 1. 1.]`\n",
            "### CV Confusion Matrix\n",
            "```\n",
            "Predicted     0     1\n",
            "True                 \n",
            "0          1000     0\n",
            "1             0  1000\n",
            "```\n"
          ]
        },
        {
          "output_type": "display_data",
          "data": {
            "text/plain": [
              "<Figure size 640x480 with 2 Axes>"
            ],
            "image/png": "[encoded data removed]"
          },
          "metadata": {}
        }
      ],
      "source": [
        "clf = _cv(X, y, 10, 'name', LogisticRegression(solver='lbfgs'), 'foo.csv', modeldir='../work', terms=terms, resultdir='../work')"
      ]
    },
    {
      "cell_type": "code",
      "execution_count": 35,
      "metadata": {
        "id": "HG-xW5g-4FCJ",
        "outputId": "30b55720-6e97-45dc-cff4-09717fc17124",
        "colab": {
          "base_uri": "https://localhost:8080/"
        }
      },
      "outputs": [
        {
          "output_type": "execute_result",
          "data": {
            "text/plain": [
              "array([0, 1])"
            ]
          },
          "metadata": {},
          "execution_count": 35
        }
      ],
      "source": [
        "clf.classes_"
      ]
    },
    {
      "cell_type": "code",
      "execution_count": 36,
      "metadata": {
        "id": "U4t2Miih4FCJ",
        "outputId": "589dc820-8dcc-460e-83b2-c130cc64f404",
        "colab": {
          "base_uri": "https://localhost:8080/"
        }
      },
      "outputs": [
        {
          "output_type": "execute_result",
          "data": {
            "text/plain": [
              "array([ 2.24482262,  2.24424061, -2.14186277, -2.13967196, -2.1405273 ,\n",
              "        2.24523331, -2.13965475, -2.13854639, -2.13845327, -2.1407568 ,\n",
              "       -2.14462209,  2.24613296,  2.24276795,  0.10771154,  2.24801507,\n",
              "        2.2431061 ])"
            ]
          },
          "metadata": {},
          "execution_count": 36
        }
      ],
      "source": [
        "clf.coef_[0]"
      ]
    },
    {
      "cell_type": "code",
      "execution_count": 37,
      "metadata": {
        "id": "O2S4hSQv4FCK",
        "outputId": "d518964c-6273-4100-a1b9-c9d0725a06aa",
        "colab": {
          "base_uri": "https://localhost:8080/"
        }
      },
      "outputs": [
        {
          "output_type": "execute_result",
          "data": {
            "text/plain": [
              "array(['ntcreateprocessex', 'ntcreatethreadex', 'ntcreateuserprocess',\n",
              "       'ntdisplaystring', 'ntdrawtext', 'ntmodifybootentry', 'ntopenfile',\n",
              "       'ntopenkeyex', 'ntopentimer', 'ntquerydirectoryfile', 'ntreadfile',\n",
              "       'ntsavekeyex', 'ntsettimerex', 'ntwritefile', 'regcreatekeyex',\n",
              "       'regsavekeyex'], dtype=object)"
            ]
          },
          "metadata": {},
          "execution_count": 37
        }
      ],
      "source": [
        "terms"
      ]
    },
    {
      "cell_type": "markdown",
      "metadata": {
        "id": "3k0Rm2Hi4FCK"
      },
      "source": [
        "# Exploration\n",
        "\n",
        "Let's spend some time familiarizing ourselves with the input data and the classifier. First, we'll examine the dataset in more detail. Then, we'll go over how to interact with the classifier through the vectorizer and `numpy`.\n",
        "\n",
        "## Dataset"
      ]
    },
    {
      "cell_type": "code",
      "execution_count": 38,
      "metadata": {
        "id": "M2CS4i5B4FCK",
        "outputId": "3f35e518-556b-475f-de35-b644ecf29a8a",
        "colab": {
          "base_uri": "https://localhost:8080/"
        }
      },
      "outputs": [
        {
          "output_type": "stream",
          "name": "stdout",
          "text": [
            "num malicious traces: 1000\n",
            "num benign traces: 1000\n",
            "malicious trace path: malicious-traces/0920.trace\n",
            "benign trace path: benign-traces/0920.trace\n",
            "\n",
            "# Sample Trace\n",
            "NtCreateProcessEx\n",
            "NtCreateProcessEx\n",
            "NtSaveKeyEx\n",
            "NtWriteFile\n",
            "NtCreateThreadEx\n",
            "RegCreateKeyEx\n",
            "NtWriteF...\n",
            "len(trace): 402616\n"
          ]
        }
      ],
      "source": [
        "# Load all malicious and benign traces from the ground truth dataset\n",
        "maltraces, bentraces = gettraces()\n",
        "print('num malicious traces: %d' % len(maltraces))\n",
        "print('num benign traces: %d' % len(bentraces))\n",
        "print('malicious trace path: %s' % maltraces[0])\n",
        "print('benign trace path: %s' % bentraces[0])\n",
        "\n",
        "# Let's see what a trace file looks like!\n",
        "with open(maltraces[0]) as f:\n",
        "    maltrace_text = f.read()\n",
        "\n",
        "print('\\n# Sample Trace')\n",
        "print(maltrace_text[:100] + '...')\n",
        "print('len(trace): %d' % len(maltrace_text))\n",
        "# i/o basics\n",
        "# numpy basics\n",
        "# classifier basics"
      ]
    },
    {
      "cell_type": "markdown",
      "metadata": {
        "id": "-oiZpVRY4FCK"
      },
      "source": [
        "So we have 1000 malicious and 1000 benign traces, which are simple text files. The traces files contain one [win32 API call](https://docs.microsoft.com/en-us/windows/win32/api/winreg/nf-winreg-regcreatekeyexa) per line. What is the distribution of system calls in this single malicious trace we've been analyzing?"
      ]
    },
    {
      "cell_type": "code",
      "execution_count": 39,
      "metadata": {
        "id": "b2kta8kT4FCK",
        "outputId": "c4e2ed09-1cb7-4164-c989-36fe83a996ac",
        "colab": {
          "base_uri": "https://localhost:8080/"
        }
      },
      "outputs": [
        {
          "output_type": "execute_result",
          "data": {
            "text/plain": [
              "[('NtWriteFile', 3379),\n",
              " ('NtCreateProcessEx', 3120),\n",
              " ('NtCreateThreadEx', 3118),\n",
              " ('NtSetTimerEx', 3099),\n",
              " ('NtModifyBootEntry', 3082),\n",
              " ('NtSaveKeyEx', 3071),\n",
              " ('RegCreateKeyEx', 3065),\n",
              " ('RegSaveKeyEx', 3034),\n",
              " ('NtReadFile', 339),\n",
              " ('NtOpenTimer', 319),\n",
              " ('NtDrawText', 318),\n",
              " ('NtQueryDirectoryFile', 304),\n",
              " ('NtCreateUserProcess', 303),\n",
              " ('NtOpenKeyEx', 301),\n",
              " ('NtDisplayString', 300),\n",
              " ('NtOpenFile', 269)]"
            ]
          },
          "metadata": {},
          "execution_count": 39
        }
      ],
      "source": [
        "def frequency(trace):\n",
        "    return Counter(trace.splitlines())\n",
        "frequency(maltrace_text).most_common()"
      ]
    },
    {
      "cell_type": "markdown",
      "metadata": {
        "id": "CtUVPqjo4FCL"
      },
      "source": [
        "And for a single benign trace?"
      ]
    },
    {
      "cell_type": "code",
      "execution_count": 40,
      "metadata": {
        "id": "rGSdYo9y4FCL",
        "outputId": "2d42fad8-f17d-4889-c8dc-9bcca3b8de9f",
        "colab": {
          "base_uri": "https://localhost:8080/"
        }
      },
      "outputs": [
        {
          "output_type": "execute_result",
          "data": {
            "text/plain": [
              "[('NtWriteFile', 784),\n",
              " ('NtOpenTimer', 765),\n",
              " ('NtOpenFile', 731),\n",
              " ('NtDisplayString', 724),\n",
              " ('NtOpenKeyEx', 695),\n",
              " ('NtCreateUserProcess', 691),\n",
              " ('NtDrawText', 685),\n",
              " ('NtQueryDirectoryFile', 683),\n",
              " ('NtReadFile', 682),\n",
              " ('NtSaveKeyEx', 102),\n",
              " ('NtCreateThreadEx', 97),\n",
              " ('RegCreateKeyEx', 85),\n",
              " ('NtModifyBootEntry', 82),\n",
              " ('NtCreateProcessEx', 81),\n",
              " ('NtSetTimerEx', 77),\n",
              " ('RegSaveKeyEx', 73)]"
            ]
          },
          "metadata": {},
          "execution_count": 40
        }
      ],
      "source": [
        "with open(bentraces[0]) as f:\n",
        "    bentrace_text = f.read()\n",
        "\n",
        "frequency(bentrace_text).most_common()"
      ]
    },
    {
      "cell_type": "markdown",
      "metadata": {
        "id": "vrZgGQiN4FCL"
      },
      "source": [
        "What are some of the differences between these two traces? Post your answers in Group Chat!\n",
        "\n",
        "The `Counter` class let's us add two of them together to merge the counts. For example:"
      ]
    },
    {
      "cell_type": "code",
      "execution_count": 41,
      "metadata": {
        "id": "Nnu6vBSm4FCL",
        "outputId": "38861222-9bee-4b75-f33f-ae4c136e7495",
        "colab": {
          "base_uri": "https://localhost:8080/"
        }
      },
      "outputs": [
        {
          "output_type": "execute_result",
          "data": {
            "text/plain": [
              "[('NtWriteFile', 4163),\n",
              " ('NtCreateThreadEx', 3215),\n",
              " ('NtCreateProcessEx', 3201),\n",
              " ('NtSetTimerEx', 3176),\n",
              " ('NtSaveKeyEx', 3173),\n",
              " ('NtModifyBootEntry', 3164),\n",
              " ('RegCreateKeyEx', 3150),\n",
              " ('RegSaveKeyEx', 3107),\n",
              " ('NtOpenTimer', 1084),\n",
              " ('NtDisplayString', 1024),\n",
              " ('NtReadFile', 1021),\n",
              " ('NtDrawText', 1003),\n",
              " ('NtOpenFile', 1000),\n",
              " ('NtOpenKeyEx', 996),\n",
              " ('NtCreateUserProcess', 994),\n",
              " ('NtQueryDirectoryFile', 987)]"
            ]
          },
          "metadata": {},
          "execution_count": 41
        }
      ],
      "source": [
        "(frequency(maltrace_text) + frequency(bentrace_text)).most_common()"
      ]
    },
    {
      "cell_type": "markdown",
      "metadata": {
        "id": "pfYjQyfh4FCL"
      },
      "source": [
        "## Vectorizer, Numpy, and Classifier\n",
        "\n",
        "This particular classifier relies on a `vectorizer` that turns raw text---like our traces---into a numerical feature vector. This allows us to use our typical machine learning algorithms on text data. Let's create a matrix containing two feature vectors containing the malicious and benign traces from above."
      ]
    },
    {
      "cell_type": "code",
      "execution_count": 42,
      "metadata": {
        "id": "V7kA3Ll44FCM",
        "outputId": "af44150c-ce78-466a-882f-39c653686b15",
        "colab": {
          "base_uri": "https://localhost:8080/"
        }
      },
      "outputs": [
        {
          "output_type": "stream",
          "name": "stdout",
          "text": [
            "(2, 16)\n"
          ]
        },
        {
          "output_type": "execute_result",
          "data": {
            "text/plain": [
              "matrix([[0.3515576 , 0.35133224, 0.03414165, 0.03380362, 0.03583183,\n",
              "         0.34727581, 0.03031057, 0.03391629, 0.03594451, 0.03425433,\n",
              "         0.03819809, 0.34603634, 0.34919134, 0.38074139, 0.34536027,\n",
              "         0.34186723],\n",
              "        [0.03747694, 0.04487979, 0.3197107 , 0.33497908, 0.31693463,\n",
              "         0.03793962, 0.33821783, 0.32156141, 0.35394889, 0.31600927,\n",
              "         0.31554659, 0.04719319, 0.03562623, 0.36273978, 0.03932765,\n",
              "         0.03377552]])"
            ]
          },
          "metadata": {},
          "execution_count": 42
        }
      ],
      "source": [
        "A = vectorizer.transform([maltrace_text, bentrace_text])\n",
        "print(A.shape)\n",
        "\n",
        "A.todense()"
      ]
    },
    {
      "cell_type": "markdown",
      "metadata": {
        "id": "eoxN7y054FCM"
      },
      "source": [
        "So we see that `vectorizer.transform` takes a list of traces (the raw text from the file, _not_ the path) as input and returns a matrix of values where each row corresponds to the trace and the columns represent the vectorized text, i.e., our features. This means our dataset contains 16 features.\n",
        "\n",
        "Since we now have a matrix of values, we can do simple matrix arithmetic to manipulate the feature vectors. For those not familiar with the library `numpy` (here `import numpy as np`), we can construct `n`-dimensional arrays with `np.array`. For example:"
      ]
    },
    {
      "cell_type": "code",
      "execution_count": 43,
      "metadata": {
        "id": "VeSIkuFp4FCM",
        "outputId": "39408947-df60-44a6-fec8-0caefecdf2ac",
        "colab": {
          "base_uri": "https://localhost:8080/"
        }
      },
      "outputs": [
        {
          "output_type": "stream",
          "name": "stdout",
          "text": [
            "(16,)\n",
            "[ 0  1  2  3  4  5  6  7  8  9 10 11 12 13 14 15]\n"
          ]
        }
      ],
      "source": [
        "a = np.array(range(16))\n",
        "print(a.shape)\n",
        "print(a)"
      ]
    },
    {
      "cell_type": "markdown",
      "metadata": {
        "id": "tUGoCa4v4FCM"
      },
      "source": [
        "Creates a 1-dimensional array (a vector) of the values 0--15. We can now do vectorized arithmetic to affect all the values in a matrix without having to waste time looping through each row. For example, the snippet below adds 1 to every other column in the feature vector matrix."
      ]
    },
    {
      "cell_type": "code",
      "execution_count": 44,
      "metadata": {
        "id": "FD-bMRjX4FCM",
        "outputId": "a831b47e-a545-44ee-ca50-421457eb1ee8",
        "colab": {
          "base_uri": "https://localhost:8080/"
        }
      },
      "outputs": [
        {
          "output_type": "execute_result",
          "data": {
            "text/plain": [
              "matrix([[1.3515576 , 0.35133224, 1.03414165, 0.03380362, 1.03583183,\n",
              "         0.34727581, 1.03031057, 0.03391629, 1.03594451, 0.03425433,\n",
              "         1.03819809, 0.34603634, 1.34919134, 0.38074139, 1.34536027,\n",
              "         0.34186723],\n",
              "        [1.03747694, 0.04487979, 1.3197107 , 0.33497908, 1.31693463,\n",
              "         0.03793962, 1.33821783, 0.32156141, 1.35394889, 0.31600927,\n",
              "         1.31554659, 0.04719319, 1.03562623, 0.36273978, 1.03932765,\n",
              "         0.03377552]])"
            ]
          },
          "metadata": {},
          "execution_count": 44
        }
      ],
      "source": [
        "A + np.array([1, 0, 1, 0, 1, 0, 1, 0, 1, 0, 1, 0, 1, 0, 1, 0])"
      ]
    },
    {
      "cell_type": "markdown",
      "metadata": {
        "id": "njMBqeYE4FCM"
      },
      "source": [
        "So now that we have a matrix, how do we use the classifier? Our classifier was built above and stored as `clf`. We can use the `clf.predict()` method to predict whether a vectorized trace is from a malicious or benign program. Note that `1` means malicious and `0` means benign."
      ]
    },
    {
      "cell_type": "code",
      "execution_count": 45,
      "metadata": {
        "id": "GRAW4QA54FCM",
        "outputId": "b4c646cb-37a5-43b3-8177-50b7403a2cdb",
        "colab": {
          "base_uri": "https://localhost:8080/"
        }
      },
      "outputs": [
        {
          "output_type": "execute_result",
          "data": {
            "text/plain": [
              "array([1, 0])"
            ]
          },
          "metadata": {},
          "execution_count": 45
        }
      ],
      "source": [
        "clf.predict(A)"
      ]
    },
    {
      "cell_type": "markdown",
      "metadata": {
        "id": "eYhGKsBz4FCN"
      },
      "source": [
        "This means our first row was classified as malicious and our second row was classified as benign. Considering `A` was constructed by running `vectorizer.transform([maltrace_text, bentrace_text])`, this makes perfect sense! Since `A` is just a matrix of values, we can also classify the manipulation of these matrices as we had done above. For example, let's add a vector to `A` and see how it impacts the classifier's output:"
      ]
    },
    {
      "cell_type": "code",
      "execution_count": 46,
      "metadata": {
        "id": "Cd-waFJ84FCN",
        "outputId": "20ba788b-7554-4613-9154-83c292603463",
        "colab": {
          "base_uri": "https://localhost:8080/"
        }
      },
      "outputs": [
        {
          "output_type": "execute_result",
          "data": {
            "text/plain": [
              "array([1, 1])"
            ]
          },
          "metadata": {},
          "execution_count": 46
        }
      ],
      "source": [
        "clf.predict(np.asarray(A.todense()) + np.array(range(16)))"
      ]
    },
    {
      "cell_type": "markdown",
      "metadata": {
        "id": "R7ePQ46M4FCN"
      },
      "source": [
        "Notice that this affected the classification result! Both are now considered malicious. Soon, we'll figure out how to do this in the other direction :). But first..."
      ]
    },
    {
      "cell_type": "markdown",
      "metadata": {
        "id": "-N1P95IJ4FCN"
      },
      "source": [
        "# Warm Up\n",
        "\n",
        "Complete the following exercises to demonstrate familiarity with the dataset:\n",
        "\n",
        "* How many _unique_ system calls are there in this dataset in total?\n",
        "* What is the most common system call? For malicious traces only? What about benign?\n",
        "* Complete the function `get_feature_vector(path, vectorizer)` that given a path to a trace and the example vectorizer, returns the feature vector as a matrix.\n",
        "\n",
        "Post your answers to the Group Chat!"
      ]
    },
    {
      "cell_type": "code",
      "execution_count": 47,
      "metadata": {
        "id": "h1wpm1EK4FCN"
      },
      "outputs": [],
      "source": [
        "def get_feature_vector(path, vectorizer):\n",
        "    pass"
      ]
    },
    {
      "cell_type": "markdown",
      "metadata": {
        "id": "Fglp12k_4FCN"
      },
      "source": [
        "# Direct Attack\n",
        "\n",
        "You (somehow) have direct access to the feature vectors. Don't ask how, celebrate! Let's try to figure out the difference between malicious and benign feature vectors."
      ]
    },
    {
      "cell_type": "markdown",
      "metadata": {
        "id": "UePazigl4FCN"
      },
      "source": [
        "### Retrieve and Examine Vectors\n",
        "\n",
        "Let's dig into these features vectors. We can understand them better by comparing the feature vectors for one malicious trace, one benign trace, and their difference."
      ]
    },
    {
      "cell_type": "code",
      "execution_count": 48,
      "metadata": {
        "id": "KqO3iTBS4FCO"
      },
      "outputs": [],
      "source": [
        "mal_fv = get_feature_vector(maltraces[0], vectorizer)\n",
        "ben_fv = get_feature_vector(bentraces[0], vectorizer)"
      ]
    },
    {
      "cell_type": "code",
      "execution_count": 49,
      "metadata": {
        "scrolled": false,
        "id": "ubYJzrsV4FCO",
        "outputId": "ce9870c6-8823-49af-89c8-310b2f1c2326",
        "colab": {
          "base_uri": "https://localhost:8080/",
          "height": 268
        }
      },
      "outputs": [
        {
          "output_type": "stream",
          "name": "stdout",
          "text": [
            "malicious\t\t\tbenign\t\t\t\t\tmalicious - benign\n"
          ]
        },
        {
          "output_type": "error",
          "ename": "TypeError",
          "evalue": "ignored",
          "traceback": [
            "\u001b[0;31m---------------------------------------------------------------------------\u001b[0m",
            "\u001b[0;31mTypeError\u001b[0m                                 Traceback (most recent call last)",
            "\u001b[0;32m<ipython-input-49-f1e4773f20fc>\u001b[0m in \u001b[0;36m<cell line: 2>\u001b[0;34m()\u001b[0m\n\u001b[1;32m      1\u001b[0m \u001b[0mprint\u001b[0m\u001b[0;34m(\u001b[0m\u001b[0;34m'malicious\\t\\t\\tbenign\\t\\t\\t\\t\\tmalicious - benign'\u001b[0m\u001b[0;34m)\u001b[0m\u001b[0;34m\u001b[0m\u001b[0;34m\u001b[0m\u001b[0m\n\u001b[0;32m----> 2\u001b[0;31m \u001b[0mdiff_fv\u001b[0m \u001b[0;34m=\u001b[0m \u001b[0mmal_fv\u001b[0m \u001b[0;34m-\u001b[0m \u001b[0mben_fv\u001b[0m\u001b[0;34m\u001b[0m\u001b[0;34m\u001b[0m\u001b[0m\n\u001b[0m\u001b[1;32m      3\u001b[0m for mal, ben, diff in reversed(list(zip(str(mal_fv).split('\\n'),\n\u001b[1;32m      4\u001b[0m                                         \u001b[0mstr\u001b[0m\u001b[0;34m(\u001b[0m\u001b[0mben_fv\u001b[0m\u001b[0;34m)\u001b[0m\u001b[0;34m.\u001b[0m\u001b[0msplit\u001b[0m\u001b[0;34m(\u001b[0m\u001b[0;34m'\\n'\u001b[0m\u001b[0;34m)\u001b[0m\u001b[0;34m,\u001b[0m\u001b[0;34m\u001b[0m\u001b[0;34m\u001b[0m\u001b[0m\n\u001b[1;32m      5\u001b[0m                                         reversed(str(diff_fv).split('\\n'))))):\n",
            "\u001b[0;31mTypeError\u001b[0m: unsupported operand type(s) for -: 'NoneType' and 'NoneType'"
          ]
        }
      ],
      "source": [
        "print('malicious\\t\\t\\tbenign\\t\\t\\t\\t\\tmalicious - benign')\n",
        "diff_fv = mal_fv - ben_fv\n",
        "for mal, ben, diff in reversed(list(zip(str(mal_fv).split('\\n'),\n",
        "                                        str(ben_fv).split('\\n'),\n",
        "                                        reversed(str(diff_fv).split('\\n'))))):\n",
        "    print('%s\\t%s\\t\\t%s' % (mal, ben, diff))"
      ]
    },
    {
      "cell_type": "markdown",
      "metadata": {
        "id": "AHY-39Pp4FCO"
      },
      "source": [
        "What are some ways you could you could make this malicious feature vector \"look\" more like the benign one? Do you believe these feature vectors are representative of the two distributions (malicious vs. benign)? Why or why not? Post your answers in Group Chat!\n",
        "\n",
        "Based on what we discussed, modify the `feature_vector_malicious_to_benign` function below such that it transforms a malicious feature vector into a benign feature vector."
      ]
    },
    {
      "cell_type": "code",
      "execution_count": null,
      "metadata": {
        "id": "ya7clkP44FCO"
      },
      "outputs": [],
      "source": [
        "def feature_vector_malicious_to_benign(fv):\n",
        "    delta = np.zeros(16) # Student TODO: Change me to something that works! :)\n",
        "    return fv + delta\n",
        "print(clf.predict(mal_fv))\n",
        "print(clf.predict(feature_vector_malicious_to_benign(mal_fv)))"
      ]
    },
    {
      "cell_type": "markdown",
      "metadata": {
        "id": "XeiDNV5_4FCT"
      },
      "source": [
        "Once you've successfully modified `feature_vector_malicious_to_benign` to change the classifier's output from 1 to 0, continue on to the next step.\n",
        "\n",
        "Let's see if our function works on _all_ of the malicious samples now. Run the cell below (and replace `feature_vector_malicious_to_benign` with your function if you gave it a different name). Are all the mutated ones classified as benign (0)? If not, tweak `feature_vector_malicious_to_benign` until it does."
      ]
    },
    {
      "cell_type": "code",
      "execution_count": null,
      "metadata": {
        "id": "myp7XOGI4FCT"
      },
      "outputs": [],
      "source": [
        "def mutate_all_malicious(mutate_fn):\n",
        "    maltraces, _ = gettraces()\n",
        "    A = vectorizer.transform([open(x).read() for x in maltraces])\n",
        "    A_mutated = mutate_fn(A)\n",
        "\n",
        "    print('original:', Counter(clf.predict(A)))\n",
        "    print('mutated: ', Counter(clf.predict(A_mutated)))\n",
        "\n",
        "mutate_all_malicious(feature_vector_malicious_to_benign)"
      ]
    },
    {
      "cell_type": "markdown",
      "metadata": {
        "id": "rb2jjn6q4FCT"
      },
      "source": [
        "## Indirect Attack Part 1 (Find terms)\n",
        "\n",
        "So we've made our malware undetectable (above), but we did so by directly manipulating the feature vector. This assumes a powerful and/or dedicated attacker and we're a bit lazy. How can we alter our malware's _behavior_ such that our malware is classified as benign software? Let's identify some system calls (`terms`) that are more likely to be associated with benign software than malicious software. We can do this a couple of different ways. One is to look at the distribution of these system calls in malicious vs. benign traces:"
      ]
    },
    {
      "cell_type": "code",
      "execution_count": null,
      "metadata": {
        "id": "tCNBw6yA4FCT"
      },
      "outputs": [],
      "source": [
        "# Get counts for each trace\n",
        "mal_counts = Counter()\n",
        "for path in maltraces:\n",
        "    with open(path) as f:\n",
        "        trace = f.read()\n",
        "        mal_counts += frequency(trace)\n",
        "\n",
        "ben_counts = Counter()\n",
        "for path in bentraces:\n",
        "    with open(path) as f:\n",
        "        trace = f.read()\n",
        "        ben_counts += frequency(trace)\n",
        "\n",
        "# Build DataFrame\n",
        "mal_syscalls, mal_freq = zip(*mal_counts.items())\n",
        "ben_syscalls, ben_freq = zip(*ben_counts.items())\n",
        "df = pd.concat([pd.DataFrame({'syscall': mal_syscalls, 'count': mal_freq, 'classlabel': 'malicious'}),\n",
        "                pd.DataFrame({'syscall': ben_syscalls, 'count': ben_freq, 'classlabel': 'benign'})])\n",
        "\n",
        "# Plot it!\n",
        "p = seaborn.barplot(x='count', y='syscall', hue='classlabel', data=df)\n",
        "plt.tight_layout()\n",
        "plt.show()"
      ]
    },
    {
      "cell_type": "markdown",
      "metadata": {
        "id": "sH3MG8NG4FCU"
      },
      "source": [
        "Notice how different the frequencies are between malicious and benign execution traces! Which one of the system calls occurs in roughly the same number of benign and malicious traces? If you wanted to make your malware appear to be benign, which system calls would you inject? Post you answers in Group Chat!\n",
        "\n",
        "It is important to note a few things:\n",
        "* This example is synthetic. It's unlikely the differences will be this extreme!\n",
        "* This is _not_ directly related to the model we are attacking!\n",
        "\n",
        "How can we better understand what the _model_ believes are system calls that indicate malicious vs. benign behavior? Let's dig into the classifier's _coefficients_ and its terms. Defined above are `clf.coef_` and `terms`, which show the model's coefficients for each system call, respectively. The 0th coefficient corresponds to the 0th terms, etc., so let's examine these directly:"
      ]
    },
    {
      "cell_type": "code",
      "execution_count": null,
      "metadata": {
        "id": "sYTUS0jp4FCU"
      },
      "outputs": [],
      "source": [
        "sorted(list(zip(clf.coef_[0], terms)))"
      ]
    },
    {
      "cell_type": "markdown",
      "metadata": {
        "id": "8OFUaics4FCU"
      },
      "source": [
        "How do these values correspond to the counts we saw in the previous plot? If you were trying to make a malicious binary appear benign, which system calls would you force you malware to call? Why? Post your thoughts in Group Chat!"
      ]
    },
    {
      "cell_type": "markdown",
      "metadata": {
        "id": "Y1XwrkrZ4FCU"
      },
      "source": [
        "## Indirect Attack Part 2 (Adversarial Sample Generation)"
      ]
    },
    {
      "cell_type": "markdown",
      "metadata": {
        "id": "mxImm0vr4FCU"
      },
      "source": [
        "Based on what we learned above, modify the `gen_adversarial_sample` function below to have `syscall` default to one that is more associated with benign traces than malicious traces."
      ]
    },
    {
      "cell_type": "code",
      "execution_count": null,
      "metadata": {
        "id": "bOhoVt-34FCV"
      },
      "outputs": [],
      "source": [
        "def gen_adversarial_sample(path, syscall='ntwritefile'):\n",
        "    with open(path) as f:\n",
        "        s = f.read()\n",
        "        numsyscalls = len(s.split())\n",
        "        s_benign = s + '\\n' + '\\n'.join(itertools.repeat(syscall, numsyscalls))\n",
        "        return s, s_benign"
      ]
    },
    {
      "cell_type": "code",
      "execution_count": null,
      "metadata": {
        "id": "R8nPx80u4FCV"
      },
      "outputs": [],
      "source": [
        "s, s_benign = gen_adversarial_sample(maltraces[0])\n",
        "print(len(s))\n",
        "print(len(s_benign))"
      ]
    },
    {
      "cell_type": "code",
      "execution_count": null,
      "metadata": {
        "id": "UrGMPcuL4FCV"
      },
      "outputs": [],
      "source": [
        "clf.predict(vectorizer.transform([s, s_benign]))"
      ]
    },
    {
      "cell_type": "markdown",
      "metadata": {
        "id": "VzPzzFjU4FCV"
      },
      "source": [
        "If the above cell doesn't output `array([1, 1])`, you chose the wrong `syscall` :(. Try again! Otherwise, let's see if it works on _all_ malicious traces!"
      ]
    },
    {
      "cell_type": "code",
      "execution_count": null,
      "metadata": {
        "id": "chjoVfqq4FCV"
      },
      "outputs": [],
      "source": [
        "orig = []\n",
        "mutated = []\n",
        "for maltrace in maltraces:\n",
        "    mal, adv = gen_adversarial_sample(maltrace)\n",
        "    malvec = vectorizer.transform([mal])\n",
        "    advvec = vectorizer.transform([adv])\n",
        "    orig.append(clf.predict(malvec))\n",
        "    mutated.append(clf.predict(advvec))\n",
        "print(Counter([x[0] for x in orig]))\n",
        "print(Counter([x[0] for x in mutated]))"
      ]
    },
    {
      "cell_type": "markdown",
      "metadata": {
        "id": "DPW30aah4FCV"
      },
      "source": [
        "If the above cell doesn't output\n",
        "\n",
        "```\n",
        "Counter({1: 1000})\n",
        "Counter({0: 1000})\n",
        "```\n",
        "\n",
        "you chose the wrong `syscall` :(. Try again!\n",
        "\n",
        "Not only does it work on a single example, but it breaks everything we saw in the ground truth! Some questions:\n",
        "\n",
        "* Why was the default syscall `'ntwritefile'`?\n",
        "* Describe how `gen_adversarial_sample` works. How would you defend against this if this was one of your models?\n",
        "\n",
        "Post your answers to Group Chat!"
      ]
    },
    {
      "cell_type": "markdown",
      "metadata": {
        "id": "lvP7YnRK4FCW"
      },
      "source": [
        "## Extra Credit: Make Classifier Monotonic\n",
        "\n",
        "A simple way to make a classifier monotonic for our purposes is to not allow attackers to abuse negative coefficient features. Add a vector to `clf.coef` such that there are no longer negative coefficients, and demonstrates this defeats your adversarial generation function from the previous exercise."
      ]
    }
  ],
  "metadata": {
    "kernelspec": {
      "display_name": "Python 3",
      "language": "python",
      "name": "python3"
    },
    "language_info": {
      "codemirror_mode": {
        "name": "ipython",
        "version": 3
      },
      "file_extension": ".py",
      "mimetype": "text/x-python",
      "name": "python",
      "nbconvert_exporter": "python",
      "pygments_lexer": "ipython3",
      "version": "3.6.7"
    },
    "colab": {
      "provenance": []
    }
  },
  "nbformat": 4,
  "nbformat_minor": 0
}